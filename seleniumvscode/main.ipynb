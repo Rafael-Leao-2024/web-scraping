{
 "cells": [
  {
   "cell_type": "code",
   "execution_count": null,
   "metadata": {},
   "outputs": [],
   "source": [
    "from selenium import webdriver\n",
    "from selenium.webdriver.common.by import By\n",
    "from bs4 import BeautifulSoup\n",
    "import time\n",
    "import pandas as pd"
   ]
  },
  {
   "cell_type": "code",
   "execution_count": null,
   "metadata": {},
   "outputs": [],
   "source": [
    "# Criando Navegador e maximizando a tela\n",
    "navegador = webdriver.Chrome()\n",
    "navegador.maximize_window()\n",
    "navegador.get('https://sistemacbm.com/#/dashboard/')\n",
    "time.sleep(15)"
   ]
  },
  {
   "cell_type": "code",
   "execution_count": null,
   "metadata": {},
   "outputs": [],
   "source": [
    "#preechendo campo de usuario com cpf\n",
    "elemento = navegador.find_element(By.XPATH, '//*[@id=\"novo_login-columns\"]/div[2]/div/section/form/div[1]/div/input')\n",
    "elemento.send_keys('user_name')"
   ]
  },
  {
   "cell_type": "code",
   "execution_count": null,
   "metadata": {},
   "outputs": [],
   "source": [
    "#preechendo campo de senha com password \n",
    "elemento = navegador.find_element(By.XPATH, '//*[@id=\"novo_login-columns\"]/div[2]/div/section/form/div[2]/div/input')\n",
    "elemento.send_keys('password')\n",
    "time.sleep(5)"
   ]
  },
  {
   "cell_type": "code",
   "execution_count": null,
   "metadata": {},
   "outputs": [],
   "source": [
    "#clicando no botao entrar \n",
    "elemento = navegador.find_element(By.XPATH, '//*[@id=\"novo_login-columns\"]/div[2]/div/section/form/div[3]/button')\n",
    "elemento.click()\n",
    "time.sleep(20)"
   ]
  },
  {
   "cell_type": "code",
   "execution_count": null,
   "metadata": {},
   "outputs": [],
   "source": [
    "# lendo a base de dados e criando lista vazia \n",
    "dados = pd.read_excel(\"base.xlsx\")\n",
    "colunas = ['Placa','Proprietário', 'CPF/CNPJ Proprietário']\n",
    "placas = dados[colunas]\n",
    "lista_planilha = []"
   ]
  },
  {
   "cell_type": "code",
   "execution_count": null,
   "metadata": {},
   "outputs": [],
   "source": [
    "for placa in placas.Placa.head(5):\n",
    "    # clicando em autorizacao\n",
    "    elemento = navegador.find_element(By.XPATH, '//*[@id=\"main\"]/div[2]/div/section/div[1]/div[1]/div/article[1]/aside/ul[1]/li[1]/a[1]')\n",
    "    navegador.execute_script(\"arguments[0].scrollIntoView(false);\", elemento) \n",
    "    time.sleep(5)\n",
    "    elemento.click()\n",
    "    time.sleep(6)\n",
    "    \n",
    "    # clicando em filtrar\n",
    "    elemento = navegador.find_element(By.TAG_NAME, 'button')\n",
    "    time.sleep(2)\n",
    "    elemento.click()\n",
    "    time.sleep(5)\n",
    "\n",
    "    # inserindo digitos alfanumericos da placa\n",
    "    elemento = navegador.find_element(By.XPATH, '//*[@id=\"main\"]/div[2]/div/div/form/div[1]/div[4]/div/div/input')\n",
    "    time.sleep(5)\n",
    "    \n",
    "    # limpar o campo de texto e escrevenver novo dado\n",
    "    elemento.clear()\n",
    "    time.sleep(5)\n",
    "    elemento.send_keys(placa)\n",
    "    time.sleep(5)\n",
    "\n",
    "    # clicando no botao de filtrar\n",
    "    \n",
    "    elemento = navegador.find_element(By.XPATH, '//*[@id=\"main\"]/div[2]/div/div/form/div[3]/div/button[1]/span[2]')\n",
    "    elemento.click()\n",
    "    time.sleep(3)\n",
    "\n",
    "    # diminuindo a tela e clicando na lupa\n",
    "    time.sleep(2)\n",
    "    elemento = navegador.find_element(By.XPATH, '//*[@id=\"main\"]/div[2]/div/div/div/table/tbody/tr/td[12]')\n",
    "    navegador.execute_script(\"arguments[0].scrollIntoView(true);\", elemento) \n",
    "    time.sleep(2)\n",
    "    elemento.click()\n",
    "\n",
    "    # extraindo fonte html da page atual com Selenium e BeautifulSoup\n",
    "    time.sleep(5)\n",
    "    page_content = navegador.page_source\n",
    "    soup = BeautifulSoup(page_content, 'html.parser')\n",
    "\n",
    "    texto_page = soup.get_text()\n",
    "    lista = texto_page.split()\n",
    "    indice = lista.index('CPF/CNPJ')\n",
    "    \n",
    "    #nome_loja = lista[lista.index('PagadorEditarObservação') + 1 :238]\n",
    "    nome_loja = navegador.find_elements(By.CLASS_NAME, 'leitura')[11].text\n",
    "   \n",
    "    #nome_loja = ' '.join(nome_loja)    \n",
    "    cpf_cnpj = lista[indice + 3]\n",
    "    nome = lista[indice + 8] + ' ' + lista[indice + 9] + ' ' + lista[indice + 10] + ' ' + lista[indice + 11] + ' ' + lista[indice + 12] + ' ' + lista[indice + 13]\n",
    "    nome = nome.split('Cidade')[0]\n",
    "    data = lista[112]\n",
    "    \n",
    "    #voltando ao menu home    \n",
    "    elemento = navegador.find_element(By.XPATH, '//*[@id=\"main-sidebar\"]/nav/ul[1]/li/a')\n",
    "    elemento.click()\n",
    "    time.sleep(3)\n",
    "    \n",
    "    print(data, placa, cpf_cnpj, nome, nome_loja)\n",
    "    lista_planilha.append([data, placa, nome, nome_loja])\n",
    "    "
   ]
  },
  {
   "cell_type": "code",
   "execution_count": null,
   "metadata": {},
   "outputs": [],
   "source": [
    "# tamanho da lista estraida da automaçao\n",
    "len(lista_planilha)"
   ]
  },
  {
   "cell_type": "code",
   "execution_count": null,
   "metadata": {},
   "outputs": [],
   "source": [
    "# Criando o DataFrame apos a raspagem de dados \n",
    "tabela = pd.DataFrame(lista_planilha, columns=['data', 'placa', 'nome', 'nome_loja'])"
   ]
  },
  {
   "cell_type": "code",
   "execution_count": null,
   "metadata": {},
   "outputs": [],
   "source": [
    "display(tabela.head())"
   ]
  },
  {
   "cell_type": "code",
   "execution_count": null,
   "metadata": {},
   "outputs": [],
   "source": [
    "# Classificando a tabela pela coluna 'Nome' em ordem alfabetica\n",
    "tabela_sorted = tabela.sort_values(by='data', ignore_index=True)"
   ]
  },
  {
   "cell_type": "code",
   "execution_count": null,
   "metadata": {},
   "outputs": [],
   "source": [
    "# criando uma coluna de categoria de 'NOVOS/USADOS'\n",
    "tabela_sorted['USADOS/NOVOS'] = tabela_sorted['placa'].apply(lambda x: 'NOVOS' if 'SN' in x else 'USADOS').str.lower()"
   ]
  },
  {
   "cell_type": "code",
   "execution_count": null,
   "metadata": {},
   "outputs": [],
   "source": [
    "display(tabela_sorted.head())"
   ]
  },
  {
   "cell_type": "code",
   "execution_count": null,
   "metadata": {},
   "outputs": [],
   "source": [
    "tabela_sorted.nome_loja.value_counts()"
   ]
  },
  {
   "cell_type": "code",
   "execution_count": null,
   "metadata": {},
   "outputs": [],
   "source": [
    "# Salvando tabela em excel\n",
    "tabela_sorted.to_excel('output.xlsx', index=False)"
   ]
  },
  {
   "cell_type": "code",
   "execution_count": null,
   "metadata": {},
   "outputs": [],
   "source": [
    "# Finalizando o navegador \n",
    "navegador.close()"
   ]
  }
 ],
 "metadata": {
  "kernelspec": {
   "display_name": "Python 3 (ipykernel)",
   "language": "python",
   "name": "python3"
  },
  "language_info": {
   "codemirror_mode": {
    "name": "ipython",
    "version": 3
   },
   "file_extension": ".py",
   "mimetype": "text/x-python",
   "name": "python",
   "nbconvert_exporter": "python",
   "pygments_lexer": "ipython3",
   "version": "3.11.5"
  }
 },
 "nbformat": 4,
 "nbformat_minor": 2
}
